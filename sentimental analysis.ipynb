{
 "cells": [
  {
   "cell_type": "code",
   "execution_count": 50,
   "metadata": {},
   "outputs": [],
   "source": [
    "#Importing the liberaries\n",
    "import pandas as pd\n",
    "import numpy as np\n",
    "import statistics\n",
    "import seaborn as sns\n",
    "import matplotlib.pyplot as plt\n",
    "%matplotlib inline\n",
    "from scipy import stats"
   ]
  },
  {
   "cell_type": "code",
   "execution_count": 51,
   "metadata": {},
   "outputs": [],
   "source": [
    "feedback_df = pd.read_excel(\"feedback.xlsx\")"
   ]
  },
  {
   "cell_type": "code",
   "execution_count": 52,
   "metadata": {},
   "outputs": [],
   "source": [
    "# Exploratory Data Analysis"
   ]
  },
  {
   "cell_type": "code",
   "execution_count": 53,
   "metadata": {},
   "outputs": [],
   "source": [
    "# Remove white spaces from Date fields\n",
    "feedback_df.replace('\\n','', regex=True, inplace = True)"
   ]
  },
  {
   "cell_type": "code",
   "execution_count": 54,
   "metadata": {},
   "outputs": [
    {
     "data": {
      "text/html": [
       "<div>\n",
       "<style scoped>\n",
       "    .dataframe tbody tr th:only-of-type {\n",
       "        vertical-align: middle;\n",
       "    }\n",
       "\n",
       "    .dataframe tbody tr th {\n",
       "        vertical-align: top;\n",
       "    }\n",
       "\n",
       "    .dataframe thead th {\n",
       "        text-align: right;\n",
       "    }\n",
       "</style>\n",
       "<table border=\"1\" class=\"dataframe\">\n",
       "  <thead>\n",
       "    <tr style=\"text-align: right;\">\n",
       "      <th></th>\n",
       "      <th>S.No.</th>\n",
       "      <th>Date</th>\n",
       "      <th>Comment</th>\n",
       "      <th>Tags</th>\n",
       "    </tr>\n",
       "  </thead>\n",
       "  <tbody>\n",
       "    <tr>\n",
       "      <th>0</th>\n",
       "      <td>1</td>\n",
       "      <td>‎01‎ ‎Apr‎ ‎2017</td>\n",
       "      <td>What a complete and utter shambles. My wife ra...</td>\n",
       "      <td>#Loan#Refund#Overpayment</td>\n",
       "    </tr>\n",
       "    <tr>\n",
       "      <th>1</th>\n",
       "      <td>2</td>\n",
       "      <td>‎01‎ ‎Apr‎ ‎2017</td>\n",
       "      <td>Another absolutely feckless conversation with ...</td>\n",
       "      <td>#Loan#Payments#SLC</td>\n",
       "    </tr>\n",
       "    <tr>\n",
       "      <th>2</th>\n",
       "      <td>3</td>\n",
       "      <td>‎15‎ ‎May‎ ‎2017</td>\n",
       "      <td>Paid off student loan 6 years ago - then sudde...</td>\n",
       "      <td>#Loan#StudentLoan</td>\n",
       "    </tr>\n",
       "    <tr>\n",
       "      <th>3</th>\n",
       "      <td>4</td>\n",
       "      <td>‎24‎ ‎Sep‎ ‎2018</td>\n",
       "      <td>If I could \"leave no star\" - as a previous rev...</td>\n",
       "      <td>#SLC#Loan#customer</td>\n",
       "    </tr>\n",
       "    <tr>\n",
       "      <th>4</th>\n",
       "      <td>5</td>\n",
       "      <td>‎17‎ ‎Sep‎ ‎2018</td>\n",
       "      <td>If there were no star they would deserve it. I...</td>\n",
       "      <td>#MaintenanceLoan#Loan#HMRC</td>\n",
       "    </tr>\n",
       "  </tbody>\n",
       "</table>\n",
       "</div>"
      ],
      "text/plain": [
       "   S.No.                 Date  \\\n",
       "0      1     ‎01‎ ‎Apr‎ ‎2017   \n",
       "1      2     ‎01‎ ‎Apr‎ ‎2017   \n",
       "2      3     ‎15‎ ‎May‎ ‎2017   \n",
       "3      4  ‎24‎ ‎Sep‎ ‎2018      \n",
       "4      5     ‎17‎ ‎Sep‎ ‎2018   \n",
       "\n",
       "                                             Comment  \\\n",
       "0  What a complete and utter shambles. My wife ra...   \n",
       "1  Another absolutely feckless conversation with ...   \n",
       "2  Paid off student loan 6 years ago - then sudde...   \n",
       "3  If I could \"leave no star\" - as a previous rev...   \n",
       "4  If there were no star they would deserve it. I...   \n",
       "\n",
       "                         Tags  \n",
       "0    #Loan#Refund#Overpayment  \n",
       "1          #Loan#Payments#SLC  \n",
       "2           #Loan#StudentLoan  \n",
       "3          #SLC#Loan#customer  \n",
       "4  #MaintenanceLoan#Loan#HMRC  "
      ]
     },
     "execution_count": 54,
     "metadata": {},
     "output_type": "execute_result"
    }
   ],
   "source": [
    "feedback_df.head()"
   ]
  },
  {
   "cell_type": "code",
   "execution_count": 55,
   "metadata": {},
   "outputs": [],
   "source": [
    "feedback_df1 = feedback_df.drop('S.No.', axis=1)"
   ]
  },
  {
   "cell_type": "code",
   "execution_count": 56,
   "metadata": {},
   "outputs": [
    {
     "data": {
      "text/plain": [
       "(96, 3)"
      ]
     },
     "execution_count": 56,
     "metadata": {},
     "output_type": "execute_result"
    }
   ],
   "source": [
    "# No. of rows and columns\n",
    "feedback_df1.shape\n",
    "# Size of the dataset is small for building the model"
   ]
  },
  {
   "cell_type": "code",
   "execution_count": 57,
   "metadata": {},
   "outputs": [
    {
     "name": "stdout",
     "output_type": "stream",
     "text": [
      "<class 'pandas.core.frame.DataFrame'>\n",
      "RangeIndex: 96 entries, 0 to 95\n",
      "Data columns (total 3 columns):\n",
      "Date       43 non-null object\n",
      "Comment    96 non-null object\n",
      "Tags       95 non-null object\n",
      "dtypes: object(3)\n",
      "memory usage: 2.3+ KB\n"
     ]
    }
   ],
   "source": [
    "feedback_df1.info()\n",
    "# Is the date having Null values accepted? What does Null value in Date field mean? \n",
    "# What should this Null date replaced with?\n",
    "# or should the Null date be removed?  - 26 rows with Null date"
   ]
  },
  {
   "cell_type": "code",
   "execution_count": 58,
   "metadata": {},
   "outputs": [
    {
     "data": {
      "text/plain": [
       "Date       0\n",
       "Comment    0\n",
       "Tags       0\n",
       "dtype: int64"
      ]
     },
     "execution_count": 58,
     "metadata": {},
     "output_type": "execute_result"
    }
   ],
   "source": [
    "# Remove missing values\n",
    "feedback_df2 = feedback_df1.dropna().reset_index(drop=True)\n",
    "feedback_df2.isnull().sum()"
   ]
  },
  {
   "cell_type": "code",
   "execution_count": 59,
   "metadata": {},
   "outputs": [],
   "source": [
    "comment_df = feedback_df2['Comment']\n",
    "comment_list = comment_df.tolist()"
   ]
  },
  {
   "cell_type": "code",
   "execution_count": 60,
   "metadata": {},
   "outputs": [],
   "source": [
    "# import nltk\n",
    "# nltk.download_gui()\n",
    "# (or)\n",
    "# Download from anaconda prompt - python -m nltk.downloader brown and python -m nltk.downloader abc"
   ]
  },
  {
   "cell_type": "code",
   "execution_count": 61,
   "metadata": {},
   "outputs": [],
   "source": [
    "from nltk import sent_tokenize, word_tokenize, ne_chunk\n",
    "from nltk.corpus import stopwords\n",
    "import string\n",
    "from nltk import pos_tag\n",
    "from nltk.stem.porter import PorterStemmer\n",
    "from nltk.stem import WordNetLemmatizer"
   ]
  },
  {
   "cell_type": "code",
   "execution_count": 62,
   "metadata": {},
   "outputs": [],
   "source": [
    "# text = \"What a complete and utter shambles. My wife rang this comical lot this morning to obtain a balance on what we think is now an over paid loan. Having gone through the extensive DPA/Security check, she was then told that they can't give balances over the phone! So what is this line for and why wasn't she made aware at the beginning of the call. We now have to create an online account (which takes 24 hours) and then call back if a refund is due. So let me get this right, you can't discuss balances over the phone yet you an discuss overpayments!\""
   ]
  },
  {
   "cell_type": "code",
   "execution_count": 74,
   "metadata": {},
   "outputs": [],
   "source": [
    "pre_processed_text = []\n",
    "for text in comment_list:\n",
    "    sentences = []\n",
    "    pre_processed_sent = []\n",
    "    # Sentence segmentation :\n",
    "    sentences = sent_tokenize(text)\n",
    "    for sentence in sentences:\n",
    "        # Tokenizing\n",
    "        words = word_tokenize(sentence)\n",
    "        # Removong stop words\n",
    "        stop_words = set(stopwords.words('english'))\n",
    "        stop_words = stop_words.union(string.punctuation)\n",
    "        clean_words = [word for word in words if not word in stop_words]\n",
    "        # Identify Parts of speech - noun, verb, adjective\n",
    "        tagged_words = pos_tag(clean_words)\n",
    "        # Stemming and Lemmatization - Identify root of the word and dictionary usage\n",
    "        stemmer = PorterStemmer()\n",
    "        stemmed_words = [stemmer.stem(clean_word) for clean_word in clean_words]\n",
    "        lemmatizer = WordNetLemmatizer()\n",
    "        lemmatized_words = [ lemmatizer.lemmatize(w, pos = 'v') for w in stemmed_words ]\n",
    "#         print (lemmatized_words)\n",
    "        # Chunking - finding relation\n",
    "#         ner = ne_chunk(lemmatized_words)\n",
    "        pre_processed_sent.append(lemmatized_words)\n",
    "    pre_processed_text.append(pre_processed_sent)\n",
    "        # Named Entity Recognition\n",
    "        # TF - IDF : Term Frequency - Inverse Document Frequency - calculate weight:"
   ]
  },
  {
   "cell_type": "code",
   "execution_count": 85,
   "metadata": {},
   "outputs": [],
   "source": [
    "# Find parity using Lexican based approach\n",
    "from textblob import TextBlob\n",
    "pre_processed_text = []\n",
    "for text in comment_list:\n",
    "    blob = TextBlob(text)\n",
    "    pre_processed_sent = []\n",
    "    for sentence in blob.sentences:\n",
    "#         print(sentence.sentiment.polarity)\n",
    "        pre_processed_sent.append(sentence.sentiment.polarity)\n",
    "    # Need to sum the polarity\n",
    "    pre_processed_text.append(pre_processed_sent)\n",
    "# print(pre_processed_text)"
   ]
  },
  {
   "cell_type": "code",
   "execution_count": 87,
   "metadata": {},
   "outputs": [
    {
     "data": {
      "text/html": [
       "<div>\n",
       "<style scoped>\n",
       "    .dataframe tbody tr th:only-of-type {\n",
       "        vertical-align: middle;\n",
       "    }\n",
       "\n",
       "    .dataframe tbody tr th {\n",
       "        vertical-align: top;\n",
       "    }\n",
       "\n",
       "    .dataframe thead th {\n",
       "        text-align: right;\n",
       "    }\n",
       "</style>\n",
       "<table border=\"1\" class=\"dataframe\">\n",
       "  <thead>\n",
       "    <tr style=\"text-align: right;\">\n",
       "      <th></th>\n",
       "      <th>Date</th>\n",
       "      <th>Tags</th>\n",
       "      <th>comment_processed</th>\n",
       "    </tr>\n",
       "  </thead>\n",
       "  <tbody>\n",
       "    <tr>\n",
       "      <th>0</th>\n",
       "      <td>‎01‎ ‎Apr‎ ‎2017</td>\n",
       "      <td>#Loan#Refund#Overpayment</td>\n",
       "      <td>[0.05, 0.5, 0.0, 0.25, -0.0625, 0.357142857142...</td>\n",
       "    </tr>\n",
       "    <tr>\n",
       "      <th>1</th>\n",
       "      <td>‎01‎ ‎Apr‎ ‎2017</td>\n",
       "      <td>#Loan#Payments#SLC</td>\n",
       "      <td>[0.2, -0.3125, 0.175, 0.0, 0.0]</td>\n",
       "    </tr>\n",
       "    <tr>\n",
       "      <th>2</th>\n",
       "      <td>‎15‎ ‎May‎ ‎2017</td>\n",
       "      <td>#Loan#StudentLoan</td>\n",
       "      <td>[0.0, -0.1, 0.4375, 0.0625, 0.2]</td>\n",
       "    </tr>\n",
       "    <tr>\n",
       "      <th>3</th>\n",
       "      <td>‎24‎ ‎Sep‎ ‎2018</td>\n",
       "      <td>#SLC#Loan#customer</td>\n",
       "      <td>[-0.16666666666666666, -0.16666666666666666, 0...</td>\n",
       "    </tr>\n",
       "    <tr>\n",
       "      <th>4</th>\n",
       "      <td>‎17‎ ‎Sep‎ ‎2018</td>\n",
       "      <td>#MaintenanceLoan#Loan#HMRC</td>\n",
       "      <td>[0.0, 0.0, 0.0, 0.0, -0.5, 0.2, 0.0, 0.0, 0.0,...</td>\n",
       "    </tr>\n",
       "  </tbody>\n",
       "</table>\n",
       "</div>"
      ],
      "text/plain": [
       "                  Date                        Tags  \\\n",
       "0     ‎01‎ ‎Apr‎ ‎2017    #Loan#Refund#Overpayment   \n",
       "1     ‎01‎ ‎Apr‎ ‎2017          #Loan#Payments#SLC   \n",
       "2     ‎15‎ ‎May‎ ‎2017           #Loan#StudentLoan   \n",
       "3  ‎24‎ ‎Sep‎ ‎2018             #SLC#Loan#customer   \n",
       "4     ‎17‎ ‎Sep‎ ‎2018  #MaintenanceLoan#Loan#HMRC   \n",
       "\n",
       "                                   comment_processed  \n",
       "0  [0.05, 0.5, 0.0, 0.25, -0.0625, 0.357142857142...  \n",
       "1                    [0.2, -0.3125, 0.175, 0.0, 0.0]  \n",
       "2                   [0.0, -0.1, 0.4375, 0.0625, 0.2]  \n",
       "3  [-0.16666666666666666, -0.16666666666666666, 0...  \n",
       "4  [0.0, 0.0, 0.0, 0.0, -0.5, 0.2, 0.0, 0.0, 0.0,...  "
      ]
     },
     "execution_count": 87,
     "metadata": {},
     "output_type": "execute_result"
    }
   ],
   "source": [
    "feedback_df2['comment_processed'] = pre_processed_text\n",
    "# feedback_df2.drop('Comment', axis=1, inplace=True)\n",
    "feedback_df2.head()"
   ]
  },
  {
   "cell_type": "code",
   "execution_count": null,
   "metadata": {},
   "outputs": [],
   "source": []
  }
 ],
 "metadata": {
  "kernelspec": {
   "display_name": "Python 3",
   "language": "python",
   "name": "python3"
  },
  "language_info": {
   "codemirror_mode": {
    "name": "ipython",
    "version": 3
   },
   "file_extension": ".py",
   "mimetype": "text/x-python",
   "name": "python",
   "nbconvert_exporter": "python",
   "pygments_lexer": "ipython3",
   "version": "3.7.1"
  }
 },
 "nbformat": 4,
 "nbformat_minor": 2
}
